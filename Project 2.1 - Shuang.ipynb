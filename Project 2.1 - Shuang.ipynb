{
 "cells": [
  {
   "cell_type": "markdown",
   "id": "0b67b509",
   "metadata": {},
   "source": [
    "# Project 2.1"
   ]
  },
  {
   "cell_type": "code",
   "execution_count": 1,
   "id": "d669558f",
   "metadata": {},
   "outputs": [],
   "source": [
    "import pandas as pd\n",
    "import numpy as np\n",
    "import matplotlib.pyplot as plt"
   ]
  },
  {
   "cell_type": "markdown",
   "id": "620103a2",
   "metadata": {},
   "source": [
    "# 1. import data and data cleaning"
   ]
  },
  {
   "cell_type": "code",
   "execution_count": null,
   "id": "50883d2d",
   "metadata": {},
   "outputs": [],
   "source": [
    "data = pd.read_excel('sample ab_data.xlsx')"
   ]
  },
  {
   "cell_type": "code",
   "execution_count": 3,
   "id": "93296c69",
   "metadata": {},
   "outputs": [
    {
     "data": {
      "text/html": [
       "<div>\n",
       "<style scoped>\n",
       "    .dataframe tbody tr th:only-of-type {\n",
       "        vertical-align: middle;\n",
       "    }\n",
       "\n",
       "    .dataframe tbody tr th {\n",
       "        vertical-align: top;\n",
       "    }\n",
       "\n",
       "    .dataframe thead th {\n",
       "        text-align: right;\n",
       "    }\n",
       "</style>\n",
       "<table border=\"1\" class=\"dataframe\">\n",
       "  <thead>\n",
       "    <tr style=\"text-align: right;\">\n",
       "      <th></th>\n",
       "      <th>user_id</th>\n",
       "      <th>timestamp</th>\n",
       "      <th>group</th>\n",
       "      <th>landing_page</th>\n",
       "      <th>converted</th>\n",
       "    </tr>\n",
       "  </thead>\n",
       "  <tbody>\n",
       "    <tr>\n",
       "      <th>0</th>\n",
       "      <td>851104.0</td>\n",
       "      <td>11:48.6</td>\n",
       "      <td>control</td>\n",
       "      <td>old_page</td>\n",
       "      <td>0.0</td>\n",
       "    </tr>\n",
       "    <tr>\n",
       "      <th>1</th>\n",
       "      <td>804228.0</td>\n",
       "      <td>01:45.2</td>\n",
       "      <td>control</td>\n",
       "      <td>old_page</td>\n",
       "      <td>0.0</td>\n",
       "    </tr>\n",
       "    <tr>\n",
       "      <th>2</th>\n",
       "      <td>661590.0</td>\n",
       "      <td>55:06.2</td>\n",
       "      <td>treatment</td>\n",
       "      <td>new_page</td>\n",
       "      <td>1.0</td>\n",
       "    </tr>\n",
       "    <tr>\n",
       "      <th>3</th>\n",
       "      <td>853541.0</td>\n",
       "      <td>28:03.1</td>\n",
       "      <td>treatment</td>\n",
       "      <td>new_page</td>\n",
       "      <td>1.0</td>\n",
       "    </tr>\n",
       "    <tr>\n",
       "      <th>4</th>\n",
       "      <td>864975.0</td>\n",
       "      <td>52:26.2</td>\n",
       "      <td>control</td>\n",
       "      <td>old_page</td>\n",
       "      <td>1.0</td>\n",
       "    </tr>\n",
       "  </tbody>\n",
       "</table>\n",
       "</div>"
      ],
      "text/plain": [
       "    user_id timestamp      group landing_page  converted\n",
       "0  851104.0   11:48.6    control     old_page        0.0\n",
       "1  804228.0   01:45.2    control     old_page        0.0\n",
       "2  661590.0   55:06.2  treatment     new_page        1.0\n",
       "3  853541.0   28:03.1  treatment     new_page        1.0\n",
       "4  864975.0   52:26.2    control     old_page        1.0"
      ]
     },
     "execution_count": 3,
     "metadata": {},
     "output_type": "execute_result"
    }
   ],
   "source": [
    "data.head()"
   ]
  },
  {
   "cell_type": "code",
   "execution_count": 4,
   "id": "0e93cb1d",
   "metadata": {},
   "outputs": [
    {
     "name": "stdout",
     "output_type": "stream",
     "text": [
      "<class 'pandas.core.frame.DataFrame'>\n",
      "RangeIndex: 294478 entries, 0 to 294477\n",
      "Data columns (total 5 columns):\n",
      " #   Column        Non-Null Count   Dtype  \n",
      "---  ------        --------------   -----  \n",
      " 0   user_id       294478 non-null  float64\n",
      " 1   timestamp     294478 non-null  object \n",
      " 2   group         294478 non-null  object \n",
      " 3   landing_page  294478 non-null  object \n",
      " 4   converted     294478 non-null  float64\n",
      "dtypes: float64(2), object(3)\n",
      "memory usage: 11.2+ MB\n"
     ]
    }
   ],
   "source": [
    "data.info()\n",
    "\n",
    "# no missing value"
   ]
  },
  {
   "cell_type": "code",
   "execution_count": 9,
   "id": "961231c1",
   "metadata": {},
   "outputs": [
    {
     "data": {
      "text/plain": [
       "group      landing_page\n",
       "treatment  new_page        145311\n",
       "control    old_page        145274\n",
       "treatment  old_page          1965\n",
       "control    new_page          1928\n",
       "dtype: int64"
      ]
     },
     "execution_count": 9,
     "metadata": {},
     "output_type": "execute_result"
    }
   ],
   "source": [
    "#1. check多少 old_page /new_page\n",
    "data[['group','landing_page']].value_counts()\n",
    "\n",
    "#发现异常，there are 1965 ppl from treatment group were assigned to old_page, \n",
    "# and 1928 from control were assigned to new_page.\n",
    "# I chose to delete since there are enough database"
   ]
  },
  {
   "cell_type": "code",
   "execution_count": 13,
   "id": "6451a70d",
   "metadata": {},
   "outputs": [
    {
     "data": {
      "text/plain": [
       "group      landing_page\n",
       "treatment  new_page        145311\n",
       "control    old_page        145274\n",
       "dtype: int64"
      ]
     },
     "execution_count": 13,
     "metadata": {},
     "output_type": "execute_result"
    }
   ],
   "source": [
    "correct_assign = ((data['group'] == 'treatment') & (data['landing_page'] == 'new_page'))|((data['group'] == 'control') & (data['landing_page'] == 'old_page'))\n",
    "data_clean = data[correct_assign]\n",
    "data_clean[['group','landing_page']].value_counts()\n",
    "\n",
    "# clean and balance"
   ]
  },
  {
   "cell_type": "code",
   "execution_count": 26,
   "id": "3124502d",
   "metadata": {},
   "outputs": [
    {
     "data": {
      "text/plain": [
       "773192.0    2\n",
       "834487.0    1\n",
       "936923.0    1\n",
       "679687.0    1\n",
       "719014.0    1\n",
       "           ..\n",
       "677163.0    1\n",
       "643562.0    1\n",
       "857744.0    1\n",
       "923948.0    1\n",
       "715931.0    1\n",
       "Name: user_id, Length: 290584, dtype: int64"
      ]
     },
     "execution_count": 26,
     "metadata": {},
     "output_type": "execute_result"
    }
   ],
   "source": [
    "\n",
    "data_clean['user_id'].value_counts().sort_values(ascending = False)"
   ]
  },
  {
   "cell_type": "code",
   "execution_count": 27,
   "id": "8133d5f6",
   "metadata": {},
   "outputs": [
    {
     "name": "stderr",
     "output_type": "stream",
     "text": [
      "/var/folders/85/jcyy_w7d4g5cdzprsfn0tngh0000gn/T/ipykernel_62195/3609572330.py:1: UserWarning: Boolean Series key will be reindexed to match DataFrame index.\n",
      "  data_clean[data['user_id']==773192.0]\n"
     ]
    },
    {
     "data": {
      "text/html": [
       "<div>\n",
       "<style scoped>\n",
       "    .dataframe tbody tr th:only-of-type {\n",
       "        vertical-align: middle;\n",
       "    }\n",
       "\n",
       "    .dataframe tbody tr th {\n",
       "        vertical-align: top;\n",
       "    }\n",
       "\n",
       "    .dataframe thead th {\n",
       "        text-align: right;\n",
       "    }\n",
       "</style>\n",
       "<table border=\"1\" class=\"dataframe\">\n",
       "  <thead>\n",
       "    <tr style=\"text-align: right;\">\n",
       "      <th></th>\n",
       "      <th>user_id</th>\n",
       "      <th>timestamp</th>\n",
       "      <th>group</th>\n",
       "      <th>landing_page</th>\n",
       "      <th>converted</th>\n",
       "    </tr>\n",
       "  </thead>\n",
       "  <tbody>\n",
       "    <tr>\n",
       "      <th>1899</th>\n",
       "      <td>773192.0</td>\n",
       "      <td>37:58.8</td>\n",
       "      <td>treatment</td>\n",
       "      <td>new_page</td>\n",
       "      <td>1.0</td>\n",
       "    </tr>\n",
       "    <tr>\n",
       "      <th>2893</th>\n",
       "      <td>773192.0</td>\n",
       "      <td>55:59.6</td>\n",
       "      <td>treatment</td>\n",
       "      <td>new_page</td>\n",
       "      <td>0.0</td>\n",
       "    </tr>\n",
       "  </tbody>\n",
       "</table>\n",
       "</div>"
      ],
      "text/plain": [
       "       user_id timestamp      group landing_page  converted\n",
       "1899  773192.0   37:58.8  treatment     new_page        1.0\n",
       "2893  773192.0   55:59.6  treatment     new_page        0.0"
      ]
     },
     "execution_count": 27,
     "metadata": {},
     "output_type": "execute_result"
    }
   ],
   "source": [
    "#有重复的 user_id， 看一下是什么情况\n",
    "# 第一次coverted, 第二次 didnt covert\n",
    "data_clean[data['user_id']==773192.0]"
   ]
  },
  {
   "cell_type": "code",
   "execution_count": 55,
   "id": "41dbb79b",
   "metadata": {},
   "outputs": [
    {
     "name": "stderr",
     "output_type": "stream",
     "text": [
      "/var/folders/85/jcyy_w7d4g5cdzprsfn0tngh0000gn/T/ipykernel_62195/176654154.py:5: UserWarning: Boolean Series key will be reindexed to match DataFrame index.\n",
      "  data1 = data_clean[-f_convert]\n",
      "/var/folders/85/jcyy_w7d4g5cdzprsfn0tngh0000gn/T/ipykernel_62195/176654154.py:6: UserWarning: Boolean Series key will be reindexed to match DataFrame index.\n",
      "  data2 = data_clean[-convert]\n"
     ]
    }
   ],
   "source": [
    "# make assumption？\n",
    "convert = (data['user_id']==773192.0) & (data['converted']==1)\n",
    "f_convert = (data['user_id']==773192.0) & (data['converted']==0)\n",
    "\n",
    "data1 = data_clean[-f_convert]\n",
    "data2 = data_clean[-convert]"
   ]
  },
  {
   "cell_type": "code",
   "execution_count": 56,
   "id": "b5341d8f",
   "metadata": {},
   "outputs": [
    {
     "data": {
      "text/html": [
       "<div>\n",
       "<style scoped>\n",
       "    .dataframe tbody tr th:only-of-type {\n",
       "        vertical-align: middle;\n",
       "    }\n",
       "\n",
       "    .dataframe tbody tr th {\n",
       "        vertical-align: top;\n",
       "    }\n",
       "\n",
       "    .dataframe thead tr th {\n",
       "        text-align: left;\n",
       "    }\n",
       "</style>\n",
       "<table border=\"1\" class=\"dataframe\">\n",
       "  <thead>\n",
       "    <tr>\n",
       "      <th></th>\n",
       "      <th>group</th>\n",
       "      <th>user_num</th>\n",
       "      <th>conversion_rate</th>\n",
       "    </tr>\n",
       "  </thead>\n",
       "  <tbody>\n",
       "    <tr>\n",
       "      <th>0</th>\n",
       "      <td>control</td>\n",
       "      <td>145274</td>\n",
       "      <td>0.120386</td>\n",
       "    </tr>\n",
       "    <tr>\n",
       "      <th>1</th>\n",
       "      <td>treatment</td>\n",
       "      <td>145310</td>\n",
       "      <td>0.125360</td>\n",
       "    </tr>\n",
       "  </tbody>\n",
       "</table>\n",
       "</div>"
      ],
      "text/plain": [
       "       group user_num conversion_rate\n",
       "0    control   145274        0.120386\n",
       "1  treatment   145310        0.125360"
      ]
     },
     "execution_count": 56,
     "metadata": {},
     "output_type": "execute_result"
    }
   ],
   "source": [
    "# if count as convert\n",
    "data1 = data1.groupby('group').agg(count = ('converted', 'count'), mean = ('converted', 'mean')).reset_index()\n",
    "data1.columns = [['group', 'user_num', 'conversion_rate']]\n",
    "data1"
   ]
  },
  {
   "cell_type": "code",
   "execution_count": 75,
   "id": "a6ebec29",
   "metadata": {},
   "outputs": [
    {
     "data": {
      "image/png": "[encoded data removed]",
      "text/plain": [
       "<Figure size 432x288 with 1 Axes>"
      ]
     },
     "metadata": {
      "needs_background": "light"
     },
     "output_type": "display_data"
    }
   ],
   "source": [
    "plot_data = data1.set_index('group')[['conversion_rate']]\n",
    "\n",
    "ax = plot_data.plot(\n",
    "    kind='bar',\n",
    "    color=['#69b3a2'],  \n",
    "    legend=False,\n",
    "    figsize=(6, 4),\n",
    "    edgecolor='black'\n",
    ")"
   ]
  },
  {
   "cell_type": "code",
   "execution_count": 58,
   "id": "f55f353c",
   "metadata": {},
   "outputs": [
    {
     "data": {
      "text/html": [
       "<div>\n",
       "<style scoped>\n",
       "    .dataframe tbody tr th:only-of-type {\n",
       "        vertical-align: middle;\n",
       "    }\n",
       "\n",
       "    .dataframe tbody tr th {\n",
       "        vertical-align: top;\n",
       "    }\n",
       "\n",
       "    .dataframe thead tr th {\n",
       "        text-align: left;\n",
       "    }\n",
       "</style>\n",
       "<table border=\"1\" class=\"dataframe\">\n",
       "  <thead>\n",
       "    <tr>\n",
       "      <th></th>\n",
       "      <th>group</th>\n",
       "      <th>user_num</th>\n",
       "      <th>conversion_rate</th>\n",
       "    </tr>\n",
       "  </thead>\n",
       "  <tbody>\n",
       "    <tr>\n",
       "      <th>0</th>\n",
       "      <td>control</td>\n",
       "      <td>145274</td>\n",
       "      <td>0.120386</td>\n",
       "    </tr>\n",
       "    <tr>\n",
       "      <th>1</th>\n",
       "      <td>treatment</td>\n",
       "      <td>145310</td>\n",
       "      <td>0.125353</td>\n",
       "    </tr>\n",
       "  </tbody>\n",
       "</table>\n",
       "</div>"
      ],
      "text/plain": [
       "       group user_num conversion_rate\n",
       "0    control   145274        0.120386\n",
       "1  treatment   145310        0.125353"
      ]
     },
     "execution_count": 58,
     "metadata": {},
     "output_type": "execute_result"
    }
   ],
   "source": [
    "# if count as fail to convert\n",
    "data2 = data2 = data2.groupby('group').agg(\n",
    "    count=('converted', 'count'),\n",
    "    mean=('converted', 'mean')\n",
    ").reset_index()\n",
    "data2.columns = [['group', 'user_num', 'conversion_rate']]\n",
    "data2"
   ]
  },
  {
   "cell_type": "code",
   "execution_count": 59,
   "id": "31b2f08a",
   "metadata": {},
   "outputs": [],
   "source": [
    "#差别并不大， 所以用第一种来做分析"
   ]
  },
  {
   "cell_type": "markdown",
   "id": "59cd5837",
   "metadata": {},
   "source": [
    "# 2.Analyze results"
   ]
  },
  {
   "cell_type": "markdown",
   "id": "d89c0eea",
   "metadata": {},
   "source": [
    "lets assume the new page does not have higher conversion rate than the old page at 5% Type I error. So the hypothesis woule be:\n",
    "\n",
    "alpha = 0.05\n",
    "\n",
    "null hypothesis: there is no significant difference b/w treatment and control group, p_new <= p_old\n",
    "\n",
    "alternative hypothesis: there is significant difference b/w treatment and control group, p_new > p_old\n",
    "\n",
    "its gonna be a one-tail test"
   ]
  },
  {
   "cell_type": "code",
   "execution_count": 84,
   "id": "52f33a31",
   "metadata": {},
   "outputs": [
    {
     "name": "stderr",
     "output_type": "stream",
     "text": [
      "/var/folders/85/jcyy_w7d4g5cdzprsfn0tngh0000gn/T/ipykernel_62195/2711167756.py:1: UserWarning: Boolean Series key will be reindexed to match DataFrame index.\n",
      "  data1 = data_clean[-f_convert]\n"
     ]
    },
    {
     "data": {
      "text/plain": [
       "group      converted\n",
       "control    0.0          127785\n",
       "treatment  0.0          127094\n",
       "           1.0           18216\n",
       "control    1.0           17489\n",
       "dtype: int64"
      ]
     },
     "execution_count": 84,
     "metadata": {},
     "output_type": "execute_result"
    }
   ],
   "source": [
    "data1 = data_clean[-f_convert]\n",
    "data1[['group','converted']].value_counts()"
   ]
  },
  {
   "cell_type": "code",
   "execution_count": 86,
   "id": "7670bee8",
   "metadata": {},
   "outputs": [],
   "source": [
    "con_0 = data1[['group','converted']].value_counts()[0]\n",
    "tre_0 = data1[['group','converted']].value_counts()[1]\n",
    "tre_1 = data1[['group','converted']].value_counts()[2]\n",
    "con_1 = data1[['group','converted']].value_counts()[3]\n",
    "con_n = con_0+con_1\n",
    "tre_n = tre_0+tre_1"
   ]
  },
  {
   "cell_type": "code",
   "execution_count": 89,
   "id": "19a96efa",
   "metadata": {},
   "outputs": [],
   "source": [
    "# 由于N的数量很大，因此应该用 Z-test\n",
    "import statsmodels.api as sm\n",
    "\n",
    "z_state, p_value = sm.stats.proportions_ztest([tre_1, con_1],[tre_n, con_n], alternative='larger') #one tail, treatment>control\n"
   ]
  },
  {
   "cell_type": "code",
   "execution_count": 100,
   "id": "a5716e46",
   "metadata": {},
   "outputs": [
    {
     "data": {
      "text/plain": [
       "(4.083082708291715, 2.2217176514639505e-05)"
      ]
     },
     "execution_count": 100,
     "metadata": {},
     "output_type": "execute_result"
    }
   ],
   "source": [
    "z_state, p_value\n",
    "\n",
    "# p远远< 0.05\n",
    "# 这说明there is significate diff b/w treatment and control\n",
    "# there for new_page is better, it does help to increase conversion rate"
   ]
  },
  {
   "cell_type": "code",
   "execution_count": 94,
   "id": "41234ee4",
   "metadata": {},
   "outputs": [],
   "source": [
    "#尝试一下t-test\n",
    "tre = data1[data1['group']=='treatment']['converted']\n",
    "con = data1[data1['group']=='control']['converted']\n",
    "t_state, p_value,dfree = sm.stats.ttest_ind(tre,con, alternative='larger')"
   ]
  },
  {
   "cell_type": "code",
   "execution_count": 95,
   "id": "2c1dffb9",
   "metadata": {},
   "outputs": [
    {
     "data": {
      "text/plain": [
       "2.2217176514639505e-05"
      ]
     },
     "execution_count": 95,
     "metadata": {},
     "output_type": "execute_result"
    }
   ],
   "source": [
    "p_value\n",
    "\n",
    "# p远远< 0.05\n",
    "# 这说明there is significate diff b/w treatment and control\n",
    "# there for new_page is better, it does help to increase conversion rate"
   ]
  },
  {
   "cell_type": "markdown",
   "id": "0eb943d4",
   "metadata": {},
   "source": [
    "手动计算z-test\n",
    "\n",
    "Z = (p1-p2)/sqrt(p*(1-p)(1/n1+1/n2))\n",
    "\n",
    "p1 treatment 转化率\n",
    "\n",
    "p2 control 转化率\n",
    "\n",
    "p_pool\t合并转化率（pooled proportion）："
   ]
  },
  {
   "cell_type": "code",
   "execution_count": 96,
   "id": "844ba55f",
   "metadata": {},
   "outputs": [],
   "source": [
    "p1 = tre_1/tre_n\n",
    "p2 = con_1/con_n\n",
    "p = (tre_1+con_1)/(tre_n + con_n)\n"
   ]
  },
  {
   "cell_type": "code",
   "execution_count": 102,
   "id": "b5fcff7d",
   "metadata": {},
   "outputs": [
    {
     "data": {
      "text/plain": [
       "(4.083082708291715, 2.2221098369135106e-05)"
      ]
     },
     "execution_count": 102,
     "metadata": {},
     "output_type": "execute_result"
    }
   ],
   "source": [
    "from scipy.stats import norm\n",
    "Z = (p1-p2)/np.sqrt(p*(1-p)*(1/tre_n+1/con_n))\n",
    "p_value = 1 - norm.cdf(Z) #one tail\n",
    "Z, p_value\n",
    "\n",
    "#结果一样"
   ]
  },
  {
   "cell_type": "markdown",
   "id": "f3cfc604",
   "metadata": {},
   "source": [
    "# 3. EDA"
   ]
  },
  {
   "cell_type": "code",
   "execution_count": 155,
   "id": "dd8d4712",
   "metadata": {},
   "outputs": [
    {
     "data": {
      "text/html": [
       "<div>\n",
       "<style scoped>\n",
       "    .dataframe tbody tr th:only-of-type {\n",
       "        vertical-align: middle;\n",
       "    }\n",
       "\n",
       "    .dataframe tbody tr th {\n",
       "        vertical-align: top;\n",
       "    }\n",
       "\n",
       "    .dataframe thead th {\n",
       "        text-align: right;\n",
       "    }\n",
       "</style>\n",
       "<table border=\"1\" class=\"dataframe\">\n",
       "  <thead>\n",
       "    <tr style=\"text-align: right;\">\n",
       "      <th></th>\n",
       "      <th>user_id</th>\n",
       "      <th>timestamp</th>\n",
       "      <th>group</th>\n",
       "      <th>landing_page</th>\n",
       "      <th>converted</th>\n",
       "      <th>minutes</th>\n",
       "    </tr>\n",
       "  </thead>\n",
       "  <tbody>\n",
       "    <tr>\n",
       "      <th>0</th>\n",
       "      <td>851104.0</td>\n",
       "      <td>11:48.6</td>\n",
       "      <td>control</td>\n",
       "      <td>old_page</td>\n",
       "      <td>0.0</td>\n",
       "      <td>11</td>\n",
       "    </tr>\n",
       "    <tr>\n",
       "      <th>1</th>\n",
       "      <td>804228.0</td>\n",
       "      <td>01:45.2</td>\n",
       "      <td>control</td>\n",
       "      <td>old_page</td>\n",
       "      <td>0.0</td>\n",
       "      <td>1</td>\n",
       "    </tr>\n",
       "    <tr>\n",
       "      <th>2</th>\n",
       "      <td>661590.0</td>\n",
       "      <td>55:06.2</td>\n",
       "      <td>treatment</td>\n",
       "      <td>new_page</td>\n",
       "      <td>1.0</td>\n",
       "      <td>55</td>\n",
       "    </tr>\n",
       "    <tr>\n",
       "      <th>3</th>\n",
       "      <td>853541.0</td>\n",
       "      <td>28:03.1</td>\n",
       "      <td>treatment</td>\n",
       "      <td>new_page</td>\n",
       "      <td>1.0</td>\n",
       "      <td>28</td>\n",
       "    </tr>\n",
       "    <tr>\n",
       "      <th>4</th>\n",
       "      <td>864975.0</td>\n",
       "      <td>52:26.2</td>\n",
       "      <td>control</td>\n",
       "      <td>old_page</td>\n",
       "      <td>1.0</td>\n",
       "      <td>52</td>\n",
       "    </tr>\n",
       "  </tbody>\n",
       "</table>\n",
       "</div>"
      ],
      "text/plain": [
       "    user_id timestamp      group landing_page  converted  minutes\n",
       "0  851104.0   11:48.6    control     old_page        0.0       11\n",
       "1  804228.0   01:45.2    control     old_page        0.0        1\n",
       "2  661590.0   55:06.2  treatment     new_page        1.0       55\n",
       "3  853541.0   28:03.1  treatment     new_page        1.0       28\n",
       "4  864975.0   52:26.2    control     old_page        1.0       52"
      ]
     },
     "execution_count": 155,
     "metadata": {},
     "output_type": "execute_result"
    }
   ],
   "source": [
    "data1.head()"
   ]
  },
  {
   "cell_type": "code",
   "execution_count": 117,
   "id": "87d97704",
   "metadata": {},
   "outputs": [
    {
     "name": "stderr",
     "output_type": "stream",
     "text": [
      "/var/folders/85/jcyy_w7d4g5cdzprsfn0tngh0000gn/T/ipykernel_62195/2460010955.py:2: SettingWithCopyWarning: \n",
      "A value is trying to be set on a copy of a slice from a DataFrame.\n",
      "Try using .loc[row_indexer,col_indexer] = value instead\n",
      "\n",
      "See the caveats in the documentation: https://pandas.pydata.org/pandas-docs/stable/user_guide/indexing.html#returning-a-view-versus-a-copy\n",
      "  data1['time'] = pd.to_timedelta('00:' + data1['timestamp'])\n",
      "/var/folders/85/jcyy_w7d4g5cdzprsfn0tngh0000gn/T/ipykernel_62195/2460010955.py:3: SettingWithCopyWarning: \n",
      "A value is trying to be set on a copy of a slice from a DataFrame.\n",
      "Try using .loc[row_indexer,col_indexer] = value instead\n",
      "\n",
      "See the caveats in the documentation: https://pandas.pydata.org/pandas-docs/stable/user_guide/indexing.html#returning-a-view-versus-a-copy\n",
      "  data1['minutes'] = data1['time'].dt.components['minutes']\n"
     ]
    }
   ],
   "source": [
    "#转换时间\n",
    "data1['time'] = pd.to_timedelta('00:' + data1['timestamp'])\n",
    "data1['minutes'] = data1['time'].dt.components['minutes']\n",
    "del data1['time']"
   ]
  },
  {
   "cell_type": "code",
   "execution_count": 158,
   "id": "1ed7c47f",
   "metadata": {},
   "outputs": [
    {
     "data": {
      "text/html": [
       "<div>\n",
       "<style scoped>\n",
       "    .dataframe tbody tr th:only-of-type {\n",
       "        vertical-align: middle;\n",
       "    }\n",
       "\n",
       "    .dataframe tbody tr th {\n",
       "        vertical-align: top;\n",
       "    }\n",
       "\n",
       "    .dataframe thead th {\n",
       "        text-align: right;\n",
       "    }\n",
       "</style>\n",
       "<table border=\"1\" class=\"dataframe\">\n",
       "  <thead>\n",
       "    <tr style=\"text-align: right;\">\n",
       "      <th></th>\n",
       "      <th>user_id</th>\n",
       "      <th>timestamp</th>\n",
       "      <th>group</th>\n",
       "      <th>landing_page</th>\n",
       "      <th>converted</th>\n",
       "      <th>minutes</th>\n",
       "    </tr>\n",
       "  </thead>\n",
       "  <tbody>\n",
       "    <tr>\n",
       "      <th>0</th>\n",
       "      <td>851104.0</td>\n",
       "      <td>11:48.6</td>\n",
       "      <td>control</td>\n",
       "      <td>old_page</td>\n",
       "      <td>0.0</td>\n",
       "      <td>11</td>\n",
       "    </tr>\n",
       "    <tr>\n",
       "      <th>1</th>\n",
       "      <td>804228.0</td>\n",
       "      <td>01:45.2</td>\n",
       "      <td>control</td>\n",
       "      <td>old_page</td>\n",
       "      <td>0.0</td>\n",
       "      <td>1</td>\n",
       "    </tr>\n",
       "    <tr>\n",
       "      <th>2</th>\n",
       "      <td>661590.0</td>\n",
       "      <td>55:06.2</td>\n",
       "      <td>treatment</td>\n",
       "      <td>new_page</td>\n",
       "      <td>1.0</td>\n",
       "      <td>55</td>\n",
       "    </tr>\n",
       "    <tr>\n",
       "      <th>3</th>\n",
       "      <td>853541.0</td>\n",
       "      <td>28:03.1</td>\n",
       "      <td>treatment</td>\n",
       "      <td>new_page</td>\n",
       "      <td>1.0</td>\n",
       "      <td>28</td>\n",
       "    </tr>\n",
       "    <tr>\n",
       "      <th>4</th>\n",
       "      <td>864975.0</td>\n",
       "      <td>52:26.2</td>\n",
       "      <td>control</td>\n",
       "      <td>old_page</td>\n",
       "      <td>1.0</td>\n",
       "      <td>52</td>\n",
       "    </tr>\n",
       "  </tbody>\n",
       "</table>\n",
       "</div>"
      ],
      "text/plain": [
       "    user_id timestamp      group landing_page  converted  minutes\n",
       "0  851104.0   11:48.6    control     old_page        0.0       11\n",
       "1  804228.0   01:45.2    control     old_page        0.0        1\n",
       "2  661590.0   55:06.2  treatment     new_page        1.0       55\n",
       "3  853541.0   28:03.1  treatment     new_page        1.0       28\n",
       "4  864975.0   52:26.2    control     old_page        1.0       52"
      ]
     },
     "execution_count": 158,
     "metadata": {},
     "output_type": "execute_result"
    }
   ],
   "source": [
    "data1.head()"
   ]
  },
  {
   "cell_type": "code",
   "execution_count": 196,
   "id": "027a3c35",
   "metadata": {},
   "outputs": [
    {
     "data": {
      "text/html": [
       "<div>\n",
       "<style scoped>\n",
       "    .dataframe tbody tr th:only-of-type {\n",
       "        vertical-align: middle;\n",
       "    }\n",
       "\n",
       "    .dataframe tbody tr th {\n",
       "        vertical-align: top;\n",
       "    }\n",
       "\n",
       "    .dataframe thead th {\n",
       "        text-align: right;\n",
       "    }\n",
       "</style>\n",
       "<table border=\"1\" class=\"dataframe\">\n",
       "  <thead>\n",
       "    <tr style=\"text-align: right;\">\n",
       "      <th></th>\n",
       "      <th>minutes</th>\n",
       "      <th>group</th>\n",
       "      <th>user_id</th>\n",
       "    </tr>\n",
       "  </thead>\n",
       "  <tbody>\n",
       "    <tr>\n",
       "      <th>0</th>\n",
       "      <td>0</td>\n",
       "      <td>control</td>\n",
       "      <td>2456</td>\n",
       "    </tr>\n",
       "    <tr>\n",
       "      <th>1</th>\n",
       "      <td>0</td>\n",
       "      <td>treatment</td>\n",
       "      <td>2371</td>\n",
       "    </tr>\n",
       "    <tr>\n",
       "      <th>2</th>\n",
       "      <td>1</td>\n",
       "      <td>control</td>\n",
       "      <td>4739</td>\n",
       "    </tr>\n",
       "    <tr>\n",
       "      <th>3</th>\n",
       "      <td>1</td>\n",
       "      <td>treatment</td>\n",
       "      <td>4775</td>\n",
       "    </tr>\n",
       "    <tr>\n",
       "      <th>4</th>\n",
       "      <td>2</td>\n",
       "      <td>control</td>\n",
       "      <td>7111</td>\n",
       "    </tr>\n",
       "  </tbody>\n",
       "</table>\n",
       "</div>"
      ],
      "text/plain": [
       "   minutes      group  user_id\n",
       "0        0    control     2456\n",
       "1        0  treatment     2371\n",
       "2        1    control     4739\n",
       "3        1  treatment     4775\n",
       "4        2    control     7111"
      ]
     },
     "execution_count": 196,
     "metadata": {},
     "output_type": "execute_result"
    }
   ],
   "source": [
    "df1 = data1[['minutes','group','user_id']].groupby(['minutes','group']).count().reset_index()\n",
    "df1['user_id'] = df1.groupby('group')['user_id'].cumsum()\n",
    "df1.head()"
   ]
  },
  {
   "cell_type": "code",
   "execution_count": 191,
   "id": "1556e912",
   "metadata": {},
   "outputs": [
    {
     "data": {
      "text/html": [
       "<div>\n",
       "<style scoped>\n",
       "    .dataframe tbody tr th:only-of-type {\n",
       "        vertical-align: middle;\n",
       "    }\n",
       "\n",
       "    .dataframe tbody tr th {\n",
       "        vertical-align: top;\n",
       "    }\n",
       "\n",
       "    .dataframe thead th {\n",
       "        text-align: right;\n",
       "    }\n",
       "</style>\n",
       "<table border=\"1\" class=\"dataframe\">\n",
       "  <thead>\n",
       "    <tr style=\"text-align: right;\">\n",
       "      <th></th>\n",
       "      <th>minutes</th>\n",
       "      <th>group</th>\n",
       "      <th>user_id</th>\n",
       "    </tr>\n",
       "  </thead>\n",
       "  <tbody>\n",
       "    <tr>\n",
       "      <th>0</th>\n",
       "      <td>0</td>\n",
       "      <td>control</td>\n",
       "      <td>292</td>\n",
       "    </tr>\n",
       "    <tr>\n",
       "      <th>1</th>\n",
       "      <td>0</td>\n",
       "      <td>treatment</td>\n",
       "      <td>290</td>\n",
       "    </tr>\n",
       "    <tr>\n",
       "      <th>2</th>\n",
       "      <td>1</td>\n",
       "      <td>control</td>\n",
       "      <td>586</td>\n",
       "    </tr>\n",
       "    <tr>\n",
       "      <th>3</th>\n",
       "      <td>1</td>\n",
       "      <td>treatment</td>\n",
       "      <td>571</td>\n",
       "    </tr>\n",
       "    <tr>\n",
       "      <th>4</th>\n",
       "      <td>2</td>\n",
       "      <td>control</td>\n",
       "      <td>870</td>\n",
       "    </tr>\n",
       "  </tbody>\n",
       "</table>\n",
       "</div>"
      ],
      "text/plain": [
       "   minutes      group  user_id\n",
       "0        0    control      292\n",
       "1        0  treatment      290\n",
       "2        1    control      586\n",
       "3        1  treatment      571\n",
       "4        2    control      870"
      ]
     },
     "execution_count": 191,
     "metadata": {},
     "output_type": "execute_result"
    }
   ],
   "source": [
    "data11 = data1[data1['converted']==1]\n",
    "df2 = data11[['minutes','group','user_id']].groupby(['minutes','group']).count().reset_index()\n",
    "df2['user_id'] = df2.groupby('group')['user_id'].cumsum()\n",
    "df2.head()"
   ]
  },
  {
   "cell_type": "code",
   "execution_count": 195,
   "id": "7ca4e6ac",
   "metadata": {},
   "outputs": [
    {
     "data": {
      "text/html": [
       "<div>\n",
       "<style scoped>\n",
       "    .dataframe tbody tr th:only-of-type {\n",
       "        vertical-align: middle;\n",
       "    }\n",
       "\n",
       "    .dataframe tbody tr th {\n",
       "        vertical-align: top;\n",
       "    }\n",
       "\n",
       "    .dataframe thead th {\n",
       "        text-align: right;\n",
       "    }\n",
       "</style>\n",
       "<table border=\"1\" class=\"dataframe\">\n",
       "  <thead>\n",
       "    <tr style=\"text-align: right;\">\n",
       "      <th></th>\n",
       "      <th>minutes</th>\n",
       "      <th>group</th>\n",
       "      <th>user_id_x</th>\n",
       "      <th>user_id_y</th>\n",
       "      <th>conversion_rate</th>\n",
       "    </tr>\n",
       "  </thead>\n",
       "  <tbody>\n",
       "    <tr>\n",
       "      <th>0</th>\n",
       "      <td>0</td>\n",
       "      <td>control</td>\n",
       "      <td>292</td>\n",
       "      <td>2456</td>\n",
       "      <td>11.889251</td>\n",
       "    </tr>\n",
       "    <tr>\n",
       "      <th>1</th>\n",
       "      <td>0</td>\n",
       "      <td>treatment</td>\n",
       "      <td>290</td>\n",
       "      <td>2371</td>\n",
       "      <td>12.231126</td>\n",
       "    </tr>\n",
       "    <tr>\n",
       "      <th>2</th>\n",
       "      <td>1</td>\n",
       "      <td>control</td>\n",
       "      <td>586</td>\n",
       "      <td>4739</td>\n",
       "      <td>12.365478</td>\n",
       "    </tr>\n",
       "    <tr>\n",
       "      <th>3</th>\n",
       "      <td>1</td>\n",
       "      <td>treatment</td>\n",
       "      <td>571</td>\n",
       "      <td>4775</td>\n",
       "      <td>11.958115</td>\n",
       "    </tr>\n",
       "    <tr>\n",
       "      <th>4</th>\n",
       "      <td>2</td>\n",
       "      <td>control</td>\n",
       "      <td>870</td>\n",
       "      <td>7111</td>\n",
       "      <td>12.234566</td>\n",
       "    </tr>\n",
       "    <tr>\n",
       "      <th>...</th>\n",
       "      <td>...</td>\n",
       "      <td>...</td>\n",
       "      <td>...</td>\n",
       "      <td>...</td>\n",
       "      <td>...</td>\n",
       "    </tr>\n",
       "    <tr>\n",
       "      <th>115</th>\n",
       "      <td>57</td>\n",
       "      <td>treatment</td>\n",
       "      <td>17616</td>\n",
       "      <td>140581</td>\n",
       "      <td>12.530854</td>\n",
       "    </tr>\n",
       "    <tr>\n",
       "      <th>116</th>\n",
       "      <td>58</td>\n",
       "      <td>control</td>\n",
       "      <td>17197</td>\n",
       "      <td>142851</td>\n",
       "      <td>12.038418</td>\n",
       "    </tr>\n",
       "    <tr>\n",
       "      <th>117</th>\n",
       "      <td>58</td>\n",
       "      <td>treatment</td>\n",
       "      <td>17908</td>\n",
       "      <td>142945</td>\n",
       "      <td>12.527895</td>\n",
       "    </tr>\n",
       "    <tr>\n",
       "      <th>118</th>\n",
       "      <td>59</td>\n",
       "      <td>control</td>\n",
       "      <td>17489</td>\n",
       "      <td>145274</td>\n",
       "      <td>12.038630</td>\n",
       "    </tr>\n",
       "    <tr>\n",
       "      <th>119</th>\n",
       "      <td>59</td>\n",
       "      <td>treatment</td>\n",
       "      <td>18216</td>\n",
       "      <td>145310</td>\n",
       "      <td>12.535958</td>\n",
       "    </tr>\n",
       "  </tbody>\n",
       "</table>\n",
       "<p>120 rows × 5 columns</p>\n",
       "</div>"
      ],
      "text/plain": [
       "     minutes      group  user_id_x  user_id_y  conversion_rate\n",
       "0          0    control        292       2456        11.889251\n",
       "1          0  treatment        290       2371        12.231126\n",
       "2          1    control        586       4739        12.365478\n",
       "3          1  treatment        571       4775        11.958115\n",
       "4          2    control        870       7111        12.234566\n",
       "..       ...        ...        ...        ...              ...\n",
       "115       57  treatment      17616     140581        12.530854\n",
       "116       58    control      17197     142851        12.038418\n",
       "117       58  treatment      17908     142945        12.527895\n",
       "118       59    control      17489     145274        12.038630\n",
       "119       59  treatment      18216     145310        12.535958\n",
       "\n",
       "[120 rows x 5 columns]"
      ]
     },
     "execution_count": 195,
     "metadata": {},
     "output_type": "execute_result"
    }
   ],
   "source": [
    "df3 = df2.merge(df1, on = ['minutes','group'], how = 'left')\n",
    "df3['conversion_rate'] = df3['user_id_x']*100/df3['user_id_y']\n",
    "# df3['conversion_rate'] = df3['conversion_rate'].apply(lambda x: f\"{x*100:.2f}%\")\n",
    "df3"
   ]
  },
  {
   "cell_type": "code",
   "execution_count": 193,
   "id": "0c7c2cb8",
   "metadata": {},
   "outputs": [
    {
     "data": {
      "text/plain": [
       "<AxesSubplot:xlabel='minutes', ylabel='conversion_rate'>"
      ]
     },
     "execution_count": 193,
     "metadata": {},
     "output_type": "execute_result"
    },
    {
     "data": {
      "image/png": "[encoded data removed]",
      "text/plain": [
       "<Figure size 432x288 with 1 Axes>"
      ]
     },
     "metadata": {
      "needs_background": "light"
     },
     "output_type": "display_data"
    }
   ],
   "source": [
    "import seaborn as sns\n",
    "sns.lineplot(data = df3, x = 'minutes', y = 'conversion_rate',hue = 'group')"
   ]
  },
  {
   "cell_type": "code",
   "execution_count": null,
   "id": "e83d15c9",
   "metadata": {},
   "outputs": [],
   "source": [
    "#从图里可以看出来，new-page的转化率先上升，之后上升幅度放缓，而old page，只有前10分钟稍好，之后转换率越来越低"
   ]
  },
  {
   "cell_type": "code",
   "execution_count": null,
   "id": "12321775",
   "metadata": {},
   "outputs": [],
   "source": []
  }
 ],
 "metadata": {
  "kernelspec": {
   "display_name": "Python 3 (ipykernel)",
   "language": "python",
   "name": "python3"
  },
  "language_info": {
   "codemirror_mode": {
    "name": "ipython",
    "version": 3
   },
   "file_extension": ".py",
   "mimetype": "text/x-python",
   "name": "python",
   "nbconvert_exporter": "python",
   "pygments_lexer": "ipython3",
   "version": "3.9.7"
  }
 },
 "nbformat": 4,
 "nbformat_minor": 5
}
